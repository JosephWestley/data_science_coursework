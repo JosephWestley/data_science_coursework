{
 "cells": [
  {
   "cell_type": "markdown",
   "id": "9943d14c-fdbb-4cdc-9638-8ce8d306d8ec",
   "metadata": {},
   "source": [
    "# What factors influence likelihood of survival to fledging in white browed sparrow weavers chicks?"
   ]
  },
  {
   "cell_type": "markdown",
   "id": "40f89a84-9bae-48da-8735-c7d12d1e986d",
   "metadata": {},
   "source": [
    "Reading in the data and importing packages"
   ]
  },
  {
   "cell_type": "code",
   "execution_count": 326,
   "id": "14fa8bf7-ab36-4d92-884c-ebd4c10b5941",
   "metadata": {},
   "outputs": [
    {
     "data": {
      "text/html": [
       "<div>\n",
       "<style scoped>\n",
       "    .dataframe tbody tr th:only-of-type {\n",
       "        vertical-align: middle;\n",
       "    }\n",
       "\n",
       "    .dataframe tbody tr th {\n",
       "        vertical-align: top;\n",
       "    }\n",
       "\n",
       "    .dataframe thead th {\n",
       "        text-align: right;\n",
       "    }\n",
       "</style>\n",
       "<table border=\"1\" class=\"dataframe\">\n",
       "  <thead>\n",
       "    <tr style=\"text-align: right;\">\n",
       "      <th></th>\n",
       "      <th>EggsLaid</th>\n",
       "      <th>Sex</th>\n",
       "      <th>MassOnChick2HatchDate</th>\n",
       "      <th>HatchDate</th>\n",
       "      <th>HatchDayMass</th>\n",
       "      <th>EggLength</th>\n",
       "      <th>EggWidth</th>\n",
       "      <th>Fledged</th>\n",
       "      <th>dayofyear</th>\n",
       "      <th>month</th>\n",
       "    </tr>\n",
       "  </thead>\n",
       "  <tbody>\n",
       "    <tr>\n",
       "      <th>0</th>\n",
       "      <td>3</td>\n",
       "      <td>F</td>\n",
       "      <td>3.01</td>\n",
       "      <td>10/01/2014</td>\n",
       "      <td>1.99</td>\n",
       "      <td>24.8</td>\n",
       "      <td>15.3</td>\n",
       "      <td>YES</td>\n",
       "      <td>10</td>\n",
       "      <td>5</td>\n",
       "    </tr>\n",
       "    <tr>\n",
       "      <th>1</th>\n",
       "      <td>2</td>\n",
       "      <td>U</td>\n",
       "      <td>2.22</td>\n",
       "      <td>02/01/2016</td>\n",
       "      <td>2.22</td>\n",
       "      <td>NaN</td>\n",
       "      <td>NaN</td>\n",
       "      <td>NO</td>\n",
       "      <td>2</td>\n",
       "      <td>5</td>\n",
       "    </tr>\n",
       "    <tr>\n",
       "      <th>2</th>\n",
       "      <td>2</td>\n",
       "      <td>U</td>\n",
       "      <td>2.34</td>\n",
       "      <td>17/01/2013</td>\n",
       "      <td>2.34</td>\n",
       "      <td>NaN</td>\n",
       "      <td>NaN</td>\n",
       "      <td>NO</td>\n",
       "      <td>17</td>\n",
       "      <td>5</td>\n",
       "    </tr>\n",
       "    <tr>\n",
       "      <th>3</th>\n",
       "      <td>2</td>\n",
       "      <td>U</td>\n",
       "      <td>2.39</td>\n",
       "      <td>17/01/2013</td>\n",
       "      <td>2.39</td>\n",
       "      <td>24.5</td>\n",
       "      <td>15.0</td>\n",
       "      <td>NO</td>\n",
       "      <td>17</td>\n",
       "      <td>5</td>\n",
       "    </tr>\n",
       "    <tr>\n",
       "      <th>4</th>\n",
       "      <td>3</td>\n",
       "      <td>U</td>\n",
       "      <td>5.16</td>\n",
       "      <td>12/01/2014</td>\n",
       "      <td>2.42</td>\n",
       "      <td>24.1</td>\n",
       "      <td>15.7</td>\n",
       "      <td>NO</td>\n",
       "      <td>12</td>\n",
       "      <td>5</td>\n",
       "    </tr>\n",
       "  </tbody>\n",
       "</table>\n",
       "</div>"
      ],
      "text/plain": [
       "   EggsLaid Sex  MassOnChick2HatchDate   HatchDate  HatchDayMass  EggLength  \\\n",
       "0         3   F                   3.01  10/01/2014          1.99       24.8   \n",
       "1         2   U                   2.22  02/01/2016          2.22        NaN   \n",
       "2         2   U                   2.34  17/01/2013          2.34        NaN   \n",
       "3         2   U                   2.39  17/01/2013          2.39       24.5   \n",
       "4         3   U                   5.16  12/01/2014          2.42       24.1   \n",
       "\n",
       "   EggWidth Fledged  dayofyear  month  \n",
       "0      15.3     YES         10      5  \n",
       "1       NaN      NO          2      5  \n",
       "2       NaN      NO         17      5  \n",
       "3      15.0      NO         17      5  \n",
       "4      15.7      NO         12      5  "
      ]
     },
     "execution_count": 326,
     "metadata": {},
     "output_type": "execute_result"
    }
   ],
   "source": [
    "import pandas as pd # import package pandas\n",
    "import numpy as np # import package numpyt\n",
    "import matplotlib.pyplot as plt # import matplotlib\n",
    "data = pd.read_csv(\"hatching.csv\") # read in data as a panda\n",
    "data.head() # check data headings"
   ]
  },
  {
   "cell_type": "markdown",
   "id": "fbe59424-c7f8-41ef-8fd3-b478621fb73e",
   "metadata": {
    "jp-MarkdownHeadingCollapsed": true,
    "tags": []
   },
   "source": [
    "Here, each row is a chick, Eggslaid is the number of eggs laid in this chicks clutch, sex is the chicks sex (U is unknown), HatchDate is date the chick hatched, HatchDayMass is the mass of the chick on the day it hatched, EggLength and EggWdith are the length and width of the egg the chick came from, Fledged is whether or not the chick survived to fledging, dayofyear is HatchDate converted to the day of the year, month is the month the chick hatched."
   ]
  },
  {
   "cell_type": "markdown",
   "id": "27950cfa-9a5b-47a0-8ae5-ebb2854b1022",
   "metadata": {},
   "source": [
    "I am interested in what factors influence likelihood of survival to fledging (variable \"Fledged\"). Egg size might be important here, as bigger eggs mean more resources for the chick. I don't have a measure of egg volume, but I can produce an estimate of it using egg length and egg width, using the equation to calculate an ellipsoid's volume. Eggs are not actually this shape, but this is a good estimation based on the parameters I have. Below I create a new variable \"EggVolume\"."
   ]
  },
  {
   "cell_type": "code",
   "execution_count": 327,
   "id": "7c3a0f52-def7-459f-994c-635410c2a15f",
   "metadata": {},
   "outputs": [
    {
     "data": {
      "text/html": [
       "<div>\n",
       "<style scoped>\n",
       "    .dataframe tbody tr th:only-of-type {\n",
       "        vertical-align: middle;\n",
       "    }\n",
       "\n",
       "    .dataframe tbody tr th {\n",
       "        vertical-align: top;\n",
       "    }\n",
       "\n",
       "    .dataframe thead th {\n",
       "        text-align: right;\n",
       "    }\n",
       "</style>\n",
       "<table border=\"1\" class=\"dataframe\">\n",
       "  <thead>\n",
       "    <tr style=\"text-align: right;\">\n",
       "      <th></th>\n",
       "      <th>EggsLaid</th>\n",
       "      <th>Sex</th>\n",
       "      <th>MassOnChick2HatchDate</th>\n",
       "      <th>HatchDate</th>\n",
       "      <th>HatchDayMass</th>\n",
       "      <th>EggLength</th>\n",
       "      <th>EggWidth</th>\n",
       "      <th>Fledged</th>\n",
       "      <th>dayofyear</th>\n",
       "      <th>month</th>\n",
       "      <th>EggVolume</th>\n",
       "    </tr>\n",
       "  </thead>\n",
       "  <tbody>\n",
       "    <tr>\n",
       "      <th>0</th>\n",
       "      <td>3</td>\n",
       "      <td>F</td>\n",
       "      <td>3.01</td>\n",
       "      <td>10/01/2014</td>\n",
       "      <td>1.99</td>\n",
       "      <td>24.8</td>\n",
       "      <td>15.3</td>\n",
       "      <td>YES</td>\n",
       "      <td>10</td>\n",
       "      <td>5</td>\n",
       "      <td>3039.717087</td>\n",
       "    </tr>\n",
       "    <tr>\n",
       "      <th>1</th>\n",
       "      <td>2</td>\n",
       "      <td>U</td>\n",
       "      <td>2.22</td>\n",
       "      <td>02/01/2016</td>\n",
       "      <td>2.22</td>\n",
       "      <td>NaN</td>\n",
       "      <td>NaN</td>\n",
       "      <td>NO</td>\n",
       "      <td>2</td>\n",
       "      <td>5</td>\n",
       "      <td>NaN</td>\n",
       "    </tr>\n",
       "    <tr>\n",
       "      <th>2</th>\n",
       "      <td>2</td>\n",
       "      <td>U</td>\n",
       "      <td>2.34</td>\n",
       "      <td>17/01/2013</td>\n",
       "      <td>2.34</td>\n",
       "      <td>NaN</td>\n",
       "      <td>NaN</td>\n",
       "      <td>NO</td>\n",
       "      <td>17</td>\n",
       "      <td>5</td>\n",
       "      <td>NaN</td>\n",
       "    </tr>\n",
       "    <tr>\n",
       "      <th>3</th>\n",
       "      <td>2</td>\n",
       "      <td>U</td>\n",
       "      <td>2.39</td>\n",
       "      <td>17/01/2013</td>\n",
       "      <td>2.39</td>\n",
       "      <td>24.5</td>\n",
       "      <td>15.0</td>\n",
       "      <td>NO</td>\n",
       "      <td>17</td>\n",
       "      <td>5</td>\n",
       "      <td>2886.338250</td>\n",
       "    </tr>\n",
       "    <tr>\n",
       "      <th>4</th>\n",
       "      <td>3</td>\n",
       "      <td>U</td>\n",
       "      <td>5.16</td>\n",
       "      <td>12/01/2014</td>\n",
       "      <td>2.42</td>\n",
       "      <td>24.1</td>\n",
       "      <td>15.7</td>\n",
       "      <td>NO</td>\n",
       "      <td>12</td>\n",
       "      <td>5</td>\n",
       "      <td>3110.390879</td>\n",
       "    </tr>\n",
       "  </tbody>\n",
       "</table>\n",
       "</div>"
      ],
      "text/plain": [
       "   EggsLaid Sex  MassOnChick2HatchDate   HatchDate  HatchDayMass  EggLength  \\\n",
       "0         3   F                   3.01  10/01/2014          1.99       24.8   \n",
       "1         2   U                   2.22  02/01/2016          2.22        NaN   \n",
       "2         2   U                   2.34  17/01/2013          2.34        NaN   \n",
       "3         2   U                   2.39  17/01/2013          2.39       24.5   \n",
       "4         3   U                   5.16  12/01/2014          2.42       24.1   \n",
       "\n",
       "   EggWidth Fledged  dayofyear  month    EggVolume  \n",
       "0      15.3     YES         10      5  3039.717087  \n",
       "1       NaN      NO          2      5          NaN  \n",
       "2       NaN      NO         17      5          NaN  \n",
       "3      15.0      NO         17      5  2886.338250  \n",
       "4      15.7      NO         12      5  3110.390879  "
      ]
     },
     "execution_count": 327,
     "metadata": {},
     "output_type": "execute_result"
    }
   ],
   "source": [
    "data[\"EggVolume\"] = (4/3)*3.141592653589793*((data[\"EggLength\"])/2)*((data[\"EggWidth\"])/2)*((data[\"EggWidth\"])/2) # create new variable\n",
    "\n",
    "data.head() # check the headings"
   ]
  },
  {
   "cell_type": "code",
   "execution_count": 328,
   "id": "53d36fee-c4cb-4bf3-a729-f491ec6adbfb",
   "metadata": {
    "tags": []
   },
   "outputs": [
    {
     "data": {
      "text/plain": [
       "EggsLaid                   int64\n",
       "Sex                       object\n",
       "MassOnChick2HatchDate    float64\n",
       "HatchDate                 object\n",
       "HatchDayMass             float64\n",
       "EggLength                float64\n",
       "EggWidth                 float64\n",
       "Fledged                   object\n",
       "dayofyear                  int64\n",
       "month                      int64\n",
       "EggVolume                float64\n",
       "dtype: object"
      ]
     },
     "execution_count": 328,
     "metadata": {},
     "output_type": "execute_result"
    }
   ],
   "source": [
    "data.dtypes # check the data type for each column"
   ]
  },
  {
   "cell_type": "code",
   "execution_count": 329,
   "id": "94dfa698-b4b7-43f4-8307-05277e9bc6be",
   "metadata": {},
   "outputs": [],
   "source": [
    "data = data.dropna()"
   ]
  },
  {
   "cell_type": "markdown",
   "id": "2f359b66-f12b-4985-9f7c-40b9150668b0",
   "metadata": {},
   "source": [
    "I think it is likely that many of these variables are correlated. For example, it is probable bigger eggs produce chicks with a higher HatchDayMass. Below I produce a heatmap of correlations for the columns in my dataframe. "
   ]
  },
  {
   "cell_type": "code",
   "execution_count": 330,
   "id": "4fdd56d2-cc05-4134-8fff-9fa2e43d367f",
   "metadata": {},
   "outputs": [
    {
     "data": {
      "text/plain": [
       "<AxesSubplot:>"
      ]
     },
     "execution_count": 330,
     "metadata": {},
     "output_type": "execute_result"
    },
    {
     "data": {
      "image/png": "[encoded data removed]",
      "text/plain": [
       "<Figure size 432x288 with 2 Axes>"
      ]
     },
     "metadata": {
      "needs_background": "light"
     },
     "output_type": "display_data"
    }
   ],
   "source": [
    "import seaborn as sns # import seaborn \n",
    "sns.heatmap(data.corr(), vmin=-1.0, vmax=1.0) # plot a heatmap of correlations between continuous variables, range is -1 to 1, as these values denote perfect negative and positive correlations, respectively"
   ]
  },
  {
   "cell_type": "markdown",
   "id": "5afffe3c-f36f-4da5-8ab4-76f59be674c8",
   "metadata": {},
   "source": [
    "This reveals lots of correlations between variables. It looks like EggVolume and HatchDayMass are indeed correlated. I will plot this as a scatterplot below to get a better idea of this correlation."
   ]
  },
  {
   "cell_type": "code",
   "execution_count": 331,
   "id": "1aee46a7-ba3b-4978-8719-6a8e3bbd7303",
   "metadata": {
    "tags": []
   },
   "outputs": [
    {
     "data": {
      "text/plain": [
       "<matplotlib.collections.PathCollection at 0x2d146a229a0>"
      ]
     },
     "execution_count": 331,
     "metadata": {},
     "output_type": "execute_result"
    },
    {
     "data": {
      "image/png": "[encoded data removed]",
      "text/plain": [
       "<Figure size 432x288 with 1 Axes>"
      ]
     },
     "metadata": {
      "needs_background": "light"
     },
     "output_type": "display_data"
    }
   ],
   "source": [
    "Y=data['HatchDayMass'] # set HatchDayMass as object Y, the response or dependent variable\n",
    "X=data['EggVolume'] # set EggVolume as object X, the explanatory or independent variable\n",
    "plt.scatter(X,Y) # plot Y as a function of X, in a scatterplot"
   ]
  },
  {
   "cell_type": "markdown",
   "id": "fba92ee8-0c8f-468d-9682-340867552e50",
   "metadata": {},
   "source": [
    "There appears to be a reasonably strong correlation here. I will need to be aware of this when infering patterns from my analyses. For now though I am going to see if there is a difference between those who fledge, and those who don't in both their egg volumes, and hatch day masses. It is probably not useful to include chicks who's fledging status is unknown, so I will first remove these individuals from the dataset."
   ]
  },
  {
   "cell_type": "code",
   "execution_count": 332,
   "id": "e796c0f4-ae6c-4599-9976-3f9b3228bb43",
   "metadata": {},
   "outputs": [],
   "source": [
    "data = data[data[\"Fledged\"] != \"UNK\"] # Here I filter out all rows where Fledged = UNK"
   ]
  },
  {
   "cell_type": "code",
   "execution_count": 333,
   "id": "daf6904d-bd32-42f7-b427-04a44ec64bab",
   "metadata": {},
   "outputs": [
    {
     "data": {
      "text/plain": [
       "<seaborn.axisgrid.FacetGrid at 0x2d14581e6a0>"
      ]
     },
     "execution_count": 333,
     "metadata": {},
     "output_type": "execute_result"
    },
    {
     "data": {
      "image/png": "[encoded data removed]",
      "text/plain": [
       "<Figure size 360x360 with 1 Axes>"
      ]
     },
     "metadata": {
      "needs_background": "light"
     },
     "output_type": "display_data"
    }
   ],
   "source": [
    "sns.catplot(data=data, x=\"Fledged\", y=\"HatchDayMass\", kind=\"box\") # produce boxplot with Fledged on the X axis, and HatchDayMass on the Y axis"
   ]
  },
  {
   "cell_type": "code",
   "execution_count": 334,
   "id": "191da5e9-d45d-45a3-93fe-8ef43d262799",
   "metadata": {},
   "outputs": [
    {
     "data": {
      "text/plain": [
       "<seaborn.axisgrid.FacetGrid at 0x2d146a0be50>"
      ]
     },
     "execution_count": 334,
     "metadata": {},
     "output_type": "execute_result"
    },
    {
     "data": {
      "image/png": "[encoded data removed]",
      "text/plain": [
       "<Figure size 360x360 with 1 Axes>"
      ]
     },
     "metadata": {
      "needs_background": "light"
     },
     "output_type": "display_data"
    }
   ],
   "source": [
    "sns.catplot(data=data, x=\"Fledged\", y=\"EggVolume\", kind=\"box\") # produce boxplot with Fledged on the X axis, and EggVolume on the Y axis"
   ]
  },
  {
   "cell_type": "markdown",
   "id": "30394dcb-f4c5-423d-ac64-3cc6050e6620",
   "metadata": {},
   "source": [
    "It seems like chicks who survive to fledging tend towards a higher egg volume and a higher hatch day mass. It seems likely that number of eggs laid may influence these variables, as more eggs laid would mean less resources invested into each egg (if resources are fixed between females, which is unlikely to be true). I will see if these variables differ depending on number of eggs laid."
   ]
  },
  {
   "cell_type": "code",
   "execution_count": 335,
   "id": "215eaa69-6a09-476d-ae21-70bf9a09ca20",
   "metadata": {},
   "outputs": [
    {
     "data": {
      "text/plain": [
       "<seaborn.axisgrid.FacetGrid at 0x2d146a38af0>"
      ]
     },
     "execution_count": 335,
     "metadata": {},
     "output_type": "execute_result"
    },
    {
     "data": {
      "image/png": "[encoded data removed]",
      "text/plain": [
       "<Figure size 360x360 with 1 Axes>"
      ]
     },
     "metadata": {
      "needs_background": "light"
     },
     "output_type": "display_data"
    }
   ],
   "source": [
    "sns.catplot(data=data, x=\"EggsLaid\", y=\"EggVolume\", kind=\"box\") # produce boxplot with EggsLaid on the X axis, and EggVolume on the Y axis"
   ]
  },
  {
   "cell_type": "markdown",
   "id": "f138ba49-b2ab-453b-a699-1c6d1f6ca503",
   "metadata": {},
   "source": [
    "It seems there is no difference in EggVolume between EggsLaid values of 2 and 3. This is just speculation, but perhaps females that lay 3 eggs do so because they have more resources to begin with, or perhaps egg size is relatively fixed due to physiology? we cannot answer these questions with these data."
   ]
  },
  {
   "cell_type": "markdown",
   "id": "9a21b2e4-db6d-46b3-b02e-2316e4678604",
   "metadata": {},
   "source": [
    "Based on visual inspection of the above plots, it seems HatchDayMass is likely the best predictor of survival to fledging (of the three variables I tested). I am now going to build a model using HatchDayMass to predict Fledged. First I split the data into the test set, and the train set. The train set will be used to build the model, and the test set will then be used to test the model."
   ]
  },
  {
   "cell_type": "code",
   "execution_count": 336,
   "id": "43fdff9c-d1b0-4a84-ba8e-3b47ef493021",
   "metadata": {},
   "outputs": [],
   "source": [
    "from sklearn.model_selection import train_test_split\n",
    "Y=data['Fledged'] # set Fledged as object Y, the response or dependent variable\n",
    "X=data[['HatchDayMass']] # set HatchDayMass as object X, the explanatory or independent variable\n",
    "\n",
    "train_X, test_X, train_y, test_y = train_test_split(X, Y, random_state=40) # split the data into a training set and a test set"
   ]
  },
  {
   "cell_type": "markdown",
   "id": "101d5ceb-2864-4859-b3c4-07e32f831557",
   "metadata": {},
   "source": [
    "Here I just plot the data out, this isn't particularly informative, but it will confirm that the data has been split into test and train."
   ]
  },
  {
   "cell_type": "code",
   "execution_count": 337,
   "id": "f4b96e02-1b5f-4dc0-85b9-c0a36f935e3b",
   "metadata": {},
   "outputs": [
    {
     "data": {
      "text/plain": [
       "<matplotlib.legend.Legend at 0x2d145811250>"
      ]
     },
     "execution_count": 337,
     "metadata": {},
     "output_type": "execute_result"
    },
    {
     "data": {
      "image/png": "[encoded data removed]",
      "text/plain": [
       "<Figure size 432x288 with 1 Axes>"
      ]
     },
     "metadata": {
      "needs_background": "light"
     },
     "output_type": "display_data"
    }
   ],
   "source": [
    "fig, ax = plt.subplots() # create the figure and axes\n",
    "\n",
    "ax.scatter(train_X, train_y, color=\"red\", marker=\"o\", label=\"train\") # plot the train data on the figure\n",
    "ax.scatter(test_X, test_y, color=\"blue\", marker=\"x\", label=\"test\") # plot the test data on the figure\n",
    "ax.legend()"
   ]
  },
  {
   "cell_type": "markdown",
   "id": "ae51bb6d-5a8e-49b2-91ab-69c3d22bf794",
   "metadata": {},
   "source": [
    "As fledged is a binomial variable, I will need to use the logistic regression tool from sklearn.linear_model to make this model."
   ]
  },
  {
   "cell_type": "code",
   "execution_count": 338,
   "id": "0feb9465-1ff8-4e62-867a-75c4ceb12095",
   "metadata": {},
   "outputs": [
    {
     "data": {
      "text/plain": [
       "LogisticRegression()"
      ]
     },
     "execution_count": 338,
     "metadata": {},
     "output_type": "execute_result"
    }
   ],
   "source": [
    "from sklearn.linear_model import LogisticRegression # Load in the logistic regression function\n",
    "\n",
    "model = LogisticRegression(fit_intercept=True) # Here I specify the model\n",
    "model.fit(train_X, train_y) # Here I train the model on the training data"
   ]
  },
  {
   "cell_type": "code",
   "execution_count": 339,
   "id": "fef60ced-018f-499f-b4e9-76f5794976bc",
   "metadata": {},
   "outputs": [
    {
     "data": {
      "text/plain": [
       "0.5833333333333334"
      ]
     },
     "execution_count": 339,
     "metadata": {},
     "output_type": "execute_result"
    }
   ],
   "source": [
    "model.score(test_X, test_y) # Now I get a score for how well the model can predict whether a chick from the test data fledged or not, based on the model fit I created above"
   ]
  },
  {
   "cell_type": "markdown",
   "id": "96ac4b90-24d0-432d-9d4e-3f336f4b4fd9",
   "metadata": {},
   "source": [
    "I got a score of 0.666. I will now try this again, but will use EggVolume as the predictor. I can then which variable is a better predictor of survival to fledging. "
   ]
  },
  {
   "cell_type": "code",
   "execution_count": 340,
   "id": "f2d7467e-f022-4bd1-a924-de025e14c62a",
   "metadata": {},
   "outputs": [
    {
     "data": {
      "text/plain": [
       "0.4791666666666667"
      ]
     },
     "execution_count": 340,
     "metadata": {},
     "output_type": "execute_result"
    }
   ],
   "source": [
    "Y=data['Fledged'] # set Fledged as object Y, the response or dependent variable\n",
    "X=data[['EggVolume']] # set EggVolume as object X, the explanatory or independent variable\n",
    "train_X, test_X, train_y, test_y = train_test_split(X, Y, random_state=40) # split the data into a training set and a test set\n",
    "model = LogisticRegression(fit_intercept=True) # Here I specify the model\n",
    "model.fit(train_X, train_y) # Here I train the model on the training data\n",
    "model.score(test_X, test_y) # Now I get a score for how well the model can predict whether a chick from the test data fledged or not, based on the model fit I created above"
   ]
  },
  {
   "cell_type": "markdown",
   "id": "9c84c4ca-3845-4855-b284-9057d2266c9c",
   "metadata": {},
   "source": [
    "It appears that HatchDayMass is a better predictor of whether a chick will survive to fledging than EggVolume is."
   ]
  },
  {
   "cell_type": "markdown",
   "id": "3e5a5020-f730-4e40-a230-403b97103057",
   "metadata": {},
   "source": [
    "Finally, I am going to investigate if the proportion of chicks surviving to fledging differs depending on the time of year they hatch. First, I am going to make a density plot with month on the x axis, to see the distribution of when chicks tend to hatch. Note, month number is in relation to the breeding season start. \"1\" is September, \"2\" is October etc."
   ]
  },
  {
   "cell_type": "code",
   "execution_count": 355,
   "id": "d202292f-f797-4cdc-a8d9-6f80019ef3b0",
   "metadata": {},
   "outputs": [
    {
     "data": {
      "text/plain": [
       "<seaborn.axisgrid.FacetGrid at 0x2d148071b50>"
      ]
     },
     "execution_count": 355,
     "metadata": {},
     "output_type": "execute_result"
    },
    {
     "data": {
      "image/png": "[encoded data removed]",
      "text/plain": [
       "<Figure size 360x360 with 1 Axes>"
      ]
     },
     "metadata": {
      "needs_background": "light"
     },
     "output_type": "display_data"
    }
   ],
   "source": [
    "sns.displot(data=data, x=\"month\", kind=\"kde\")"
   ]
  },
  {
   "cell_type": "markdown",
   "id": "732c3d33-b8ac-49ac-951e-d5dfc4808f7c",
   "metadata": {},
   "source": [
    "Now I am going to separate the density plot by chicks that fledge and those that do not fledge. "
   ]
  },
  {
   "cell_type": "code",
   "execution_count": 354,
   "id": "91ae7a96-88ce-4835-b7b0-9bda15044714",
   "metadata": {},
   "outputs": [
    {
     "data": {
      "text/plain": [
       "<seaborn.axisgrid.FacetGrid at 0x2d148071c40>"
      ]
     },
     "execution_count": 354,
     "metadata": {},
     "output_type": "execute_result"
    },
    {
     "data": {
      "image/png": "[encoded data removed]",
      "text/plain": [
       "<Figure size 414.5x360 with 1 Axes>"
      ]
     },
     "metadata": {
      "needs_background": "light"
     },
     "output_type": "display_data"
    }
   ],
   "source": [
    "sns.displot(data=data, x=\"month\", hue=\"Fledged\", kind=\"kde\")"
   ]
  },
  {
   "cell_type": "markdown",
   "id": "5227c344-a3ea-4fe1-99a3-012eb928f1a6",
   "metadata": {},
   "source": [
    "It seems that chicks that hatch very early in the season are much less likely to survive than those that hatch during the main middle period of the breeding season, and chicks that hatch very late in the season are more likely to fledge than those born in the middle period. Lastly, I am going to model this as a logistic regression as well."
   ]
  },
  {
   "cell_type": "code",
   "execution_count": 360,
   "id": "8c0000fc-5b1d-4725-9845-ec8a144ac78a",
   "metadata": {},
   "outputs": [
    {
     "data": {
      "text/plain": [
       "0.5"
      ]
     },
     "execution_count": 360,
     "metadata": {},
     "output_type": "execute_result"
    }
   ],
   "source": [
    "Y=data['Fledged'] # set Fledged as object Y, the response or dependent variable\n",
    "X=data[['month']] # set month as object X, the explanatory or independent variable\n",
    "train_X, test_X, train_y, test_y = train_test_split(X, Y, random_state=40) # split the data into a training set and a test set\n",
    "model = LogisticRegression(fit_intercept=True) # Here I specify the model\n",
    "model.fit(train_X, train_y) # Here I train the model on the training data\n",
    "model.score(test_X, test_y) # Now I get a score for how well the model can predict whether a chick from the test data fledged or not, based on the model fit I created above"
   ]
  },
  {
   "cell_type": "markdown",
   "id": "e2ee6dbb-fb5a-4bf3-9db8-d308753e3e24",
   "metadata": {},
   "source": [
    ""
   ]
  }
 ],
 "metadata": {
  "kernelspec": {
   "display_name": "Python 3 (ipykernel)",
   "language": "python",
   "name": "python3"
  },
  "language_info": {
   "codemirror_mode": {
    "name": "ipython",
    "version": 3
   },
   "file_extension": ".py",
   "mimetype": "text/x-python",
   "name": "python",
   "nbconvert_exporter": "python",
   "pygments_lexer": "ipython3",
   "version": "3.9.7"
  }
 },
 "nbformat": 4,
 "nbformat_minor": 5
}
